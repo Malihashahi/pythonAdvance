{
 "cells": [
  {
   "cell_type": "code",
   "execution_count": null,
   "metadata": {},
   "outputs": [],
   "source": [
    "from bs4 import BeautifulSoup\n",
    "soup = BeautifulSoup(\"<p>Some<b>bad<i>HTML\")\n",
    "print(soup.prettify())"
   ]
  },
  {
   "cell_type": "code",
   "execution_count": 4,
   "metadata": {},
   "outputs": [],
   "source": [
    "import requests\n",
    "from bs4 import BeautifulSoup\n",
    "\n",
    "URL = \"https://divar.ir/s/tehran\"\n",
    "page = requests.get(URL)\n"
   ]
  },
  {
   "cell_type": "code",
   "execution_count": 5,
   "metadata": {},
   "outputs": [],
   "source": [
    "soup = BeautifulSoup(page.content, \"html.parser\")"
   ]
  },
  {
   "cell_type": "code",
   "execution_count": 6,
   "metadata": {},
   "outputs": [],
   "source": [
    "site = soup.find_all('article')"
   ]
  },
  {
   "cell_type": "code",
   "execution_count": 7,
   "metadata": {},
   "outputs": [
    {
     "name": "stdout",
     "output_type": "stream",
     "text": [
      "در حد نو\n",
      "۵۰۰,۰۰۰ تومان\n",
      "۲۳۸,۰۰۰ کیلومتر\n",
      "۳۴۷,۰۰۰,۰۰۰ تومان\n",
      "نو\n",
      "۱۴,۰۰۰,۰۰۰ تومان\n",
      "نو\n",
      "۱۰,۰۰۰,۰۰۰ تومان\n",
      "نو\n",
      "۹۸,۰۰۰ تومان\n",
      "۴۰,۰۰۰,۰۰۰,۰۰۰ تومان\n",
      "نو\n",
      "۲,۳۹۰,۰۰۰ تومان\n",
      "۱,۱۱۱ تومان\n",
      "۱,۴۰۰,۰۰۰ تومان\n",
      "در حد نو\n",
      "۷۵۰,۰۰۰ تومان\n",
      "پرداخت ساعتی\n",
      "نو\n",
      "۲,۵۰۰,۰۰۰ تومان\n",
      "نو\n",
      "۴,۰۹۰,۰۰۰ تومان\n",
      "در حد نو\n",
      "۱۰۰,۰۰۰ تومان\n",
      "در حد نو\n",
      "۴۸۰,۰۰۰ تومان\n",
      "نو\n",
      "۳,۲۰۰,۰۰۰ تومان\n",
      "نو\n",
      "۲,۸۹۰,۰۰۰ تومان\n",
      "کارکرده\n",
      "۹,۰۰۰,۰۰۰ تومان\n",
      "نو\n",
      "۲,۶۰۰,۰۰۰ تومان\n",
      "نو\n",
      "۴,۳۰۰,۰۰۰ تومان\n",
      "۱۳۰,۳۹۸ کیلومتر\n",
      "۳۲۵,۰۰۰,۰۰۰ تومان\n",
      "در حد نو\n",
      "۲,۳۰۰,۰۰۰ تومان\n",
      "در حد نو\n",
      "۱۱۱,۱۱۱,۱۱۱ تومان\n",
      "نو\n",
      "۱,۶۰۰,۰۰۰ تومان\n"
     ]
    }
   ],
   "source": [
    "for q in site:\n",
    "    x=q.find_all(\"div\", class_ = \"kt-post-card__description\")\n",
    "    for a in x:\n",
    "        print(a.get_text())"
   ]
  }
 ],
 "metadata": {
  "kernelspec": {
   "display_name": "Python 3",
   "language": "python",
   "name": "python3"
  },
  "language_info": {
   "codemirror_mode": {
    "name": "ipython",
    "version": 3
   },
   "file_extension": ".py",
   "mimetype": "text/x-python",
   "name": "python",
   "nbconvert_exporter": "python",
   "pygments_lexer": "ipython3",
   "version": "3.8.8"
  }
 },
 "nbformat": 4,
 "nbformat_minor": 2
}
